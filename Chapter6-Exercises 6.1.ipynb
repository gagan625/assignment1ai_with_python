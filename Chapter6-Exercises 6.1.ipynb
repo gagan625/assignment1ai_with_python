{
 "cells": [
  {
   "cell_type": "markdown",
   "id": "7bac4ce7",
   "metadata": {},
   "source": [
    "import pandas as pd\n",
    "from sklearn.model_selection import train_test_split\n",
    "from sklearn.svm import SVC\n",
    "from sklearn.metrics import confusion_matrix, classification_report\n",
    "\n",
    "\n",
    "file_path = \"C:\\\\Users\\\\gagan\\\\Downloads\\\\data_banknote_authentication.csv\" \n",
    "  \n",
    "data = pd.read_csv(file_path)\n",
    "\n",
    "\n",
    "X = data.drop(columns=['class'])\n",
    "y = data['class']\n",
    "\n",
    "\n",
    "X_train, X_test, y_train, y_test = train_test_split(X, y, test_size=0.2, random_state=20)\n",
    "\n",
    "\n",
    "svc_linear = SVC(kernel='linear', random_state=20)\n",
    "svc_linear.fit(X_train, y_train)\n",
    "y_pred_linear = svc_linear.predict(X_test)\n",
    "\n",
    "\n",
    "conf_matrix_linear = confusion_matrix(y_test, y_pred_linear)\n",
    "class_report_linear = classification_report(y_test, y_pred_linear)\n",
    "print(\"Linear Kernel Results:\")\n",
    "print(\"Confusion Matrix:\")\n",
    "print(conf_matrix_linear)\n",
    "print(\"\\nClassification Report:\")\n",
    "print(class_report_linear)\n",
    "\n",
    "\n",
    "svc_rbf = SVC(kernel='rbf', random_state=20)\n",
    "svc_rbf.fit(X_train, y_train)\n",
    "y_pred_rbf = svc_rbf.predict(X_test)\n",
    "\n",
    "\n",
    "conf_matrix_rbf = confusion_matrix(y_test, y_pred_rbf)\n",
    "class_report_rbf = classification_report(y_test, y_pred_rbf)\n",
    "print(\"\\nRBF Kernel Results:\")\n",
    "print(\"Confusion Matrix:\")\n",
    "print(conf_matrix_rbf)\n",
    "print(\"\\nClassification Report:\")\n",
    "print(class_report_rbf)\n"
   ]
  }
 ],
 "metadata": {
  "kernelspec": {
   "display_name": "Python 3 (ipykernel)",
   "language": "python",
   "name": "python3"
  },
  "language_info": {
   "codemirror_mode": {
    "name": "ipython",
    "version": 3
   },
   "file_extension": ".py",
   "mimetype": "text/x-python",
   "name": "python",
   "nbconvert_exporter": "python",
   "pygments_lexer": "ipython3",
   "version": "3.11.4"
  }
 },
 "nbformat": 4,
 "nbformat_minor": 5
}
